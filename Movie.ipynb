{
 "cells": [
  {
   "cell_type": "code",
   "execution_count": null,
   "id": "ad1980c2-944a-44b6-8fab-e299b0353b96",
   "metadata": {},
   "outputs": [],
   "source": [
    "import pandas as pd\n",
    "import numpy as np\n",
    "import os\n",
    "import matplotlib.pyplot as plt\n",
    "\n",
    "movie=pd.read_csv('dataset/tmdb_5000_movies.csv')\n",
    "credits=pd.read_csv('dataset/tmdb_5000_credits.csv')"
   ]
  },
  {
   "cell_type": "code",
   "execution_count": null,
   "id": "50871a24-a19b-4431-a73a-1002c416e323",
   "metadata": {},
   "outputs": [],
   "source": [
    "movie.head\n",
    "movie.shape\n",
    "\n"
   ]
  },
  {
   "cell_type": "code",
   "execution_count": null,
   "id": "932e33c1-0710-43b3-9459-fa00690c9527",
   "metadata": {},
   "outputs": [],
   "source": [
    "movie=movie.merge(credits,on='title')\n",
    "movie.shape\n"
   ]
  },
  {
   "cell_type": "code",
   "execution_count": null,
   "id": "4de677c2-b3ce-43b3-b4cc-97c5268ecf7a",
   "metadata": {},
   "outputs": [],
   "source": [
    "movie.columns\n"
   ]
  },
  {
   "cell_type": "code",
   "execution_count": null,
   "id": "1bf04483-2360-4311-a5bc-ffd8b290c9c5",
   "metadata": {},
   "outputs": [],
   "source": [
    "movie=movie[['movie_id','title','overview','genres', 'keywords','cast', 'crew','original_language',]]\n"
   ]
  },
  {
   "cell_type": "code",
   "execution_count": null,
   "id": "280d0ef2-26d3-426f-afe2-355140e5b56b",
   "metadata": {},
   "outputs": [],
   "source": [
    "movie.isnull().sum()\n"
   ]
  },
  {
   "cell_type": "code",
   "execution_count": null,
   "id": "9711206c-1a65-453e-8a86-b7d019ee7523",
   "metadata": {},
   "outputs": [],
   "source": [
    "movie.dropna(inplace=True)\n",
    "movie.shape"
   ]
  },
  {
   "cell_type": "code",
   "execution_count": null,
   "id": "4ed26824-de76-4b22-a68d-7763cec29c11",
   "metadata": {},
   "outputs": [],
   "source": [
    "import ast\n",
    "def convert(text):\n",
    "    l=[]\n",
    "    for i in ast.literal_eval (text): #converting string into list\n",
    "        l.append(i['name'])\n",
    "    return l\n",
    "\n",
    "def convert_c(text):\n",
    "    l=[]\n",
    "    c=0\n",
    "    for i in ast.literal_eval (text):#converting string into list\n",
    "        if c<5:\n",
    "         l.append(i['name'])\n",
    "        c+=1\n",
    "    \n",
    "    return l\n",
    "\n",
    "def convert_cr(text):\n",
    "    l=[]\n",
    "  \n",
    "    for i in ast.literal_eval (text):#converting string into list\n",
    "        if i['job']=='Director':\n",
    "          l.append(i['name'])\n",
    "          break\n",
    "    \n",
    "    return l\n",
    "\n",
    "\n",
    "\n",
    "    "
   ]
  },
  {
   "cell_type": "code",
   "execution_count": null,
   "id": "35465164-0483-4f41-b46c-de28ce354c9e",
   "metadata": {},
   "outputs": [],
   "source": [
    "movie['genres']=movie['genres'].apply(convert)\n",
    "movie['keywords']=movie['keywords'].apply(convert)\n",
    "movie['cast']=movie['cast'].apply(convert_c)\n",
    "movie['crew']=movie['crew'].apply(convert_cr)"
   ]
  },
  {
   "cell_type": "code",
   "execution_count": null,
   "id": "75fac9e0-4ca2-4e0f-a82b-8efeaf9c4163",
   "metadata": {},
   "outputs": [],
   "source": [
    "movie.head(2)"
   ]
  },
  {
   "cell_type": "code",
   "execution_count": null,
   "id": "f9eb7871-18c4-4545-b080-c801b1795fc3",
   "metadata": {},
   "outputs": [],
   "source": [
    "movie['overview']=movie['overview'].apply(lambda x:x.split())\n",
    "movie.head(2)"
   ]
  },
  {
   "cell_type": "code",
   "execution_count": null,
   "id": "c8ad496c-a7e0-4768-a7c6-988b9fc754d3",
   "metadata": {},
   "outputs": [],
   "source": [
    "#remove space from name\n",
    "def remove_space(word):\n",
    "    l=[]\n",
    "    for i in word:\n",
    "        l.append(i.replace(\" \",\"\"))\n",
    "\n",
    "    return l"
   ]
  },
  {
   "cell_type": "code",
   "execution_count": null,
   "id": "8c861ba0-24f1-4899-8818-7b9339f90c29",
   "metadata": {},
   "outputs": [],
   "source": [
    "movie['genres']=movie['genres'].apply(remove_space)\n",
    "movie['keywords']=movie['keywords'].apply(remove_space)\n",
    "movie['cast']=movie['cast'].apply(remove_space)\n",
    "movie['crew']=movie['crew'].apply(remove_space)\n"
   ]
  },
  {
   "cell_type": "code",
   "execution_count": null,
   "id": "8e290bda-134c-493f-a871-f498a3cbc2e7",
   "metadata": {},
   "outputs": [],
   "source": [
    "movie['tags'] = movie['overview'] + movie['genres'] + movie['keywords'] + movie['cast'] + movie['crew']"
   ]
  },
  {
   "cell_type": "code",
   "execution_count": null,
   "id": "81e0b047-e168-4b2f-8f1d-9459197cf98f",
   "metadata": {},
   "outputs": [],
   "source": [
    "movie.head(2)"
   ]
  },
  {
   "cell_type": "code",
   "execution_count": null,
   "id": "8504ba35-4c37-449c-b2d7-b0e962d8738a",
   "metadata": {},
   "outputs": [],
   "source": [
    "movies = movie[['movie_id','title','tags']]"
   ]
  },
  {
   "cell_type": "code",
   "execution_count": null,
   "id": "7fdab1be-4ba4-4c52-b38d-e5ca3536f71e",
   "metadata": {},
   "outputs": [],
   "source": [
    "movies[\"tags\"] = movies[\"tags\"].apply(lambda x: \" \".join(map(str, x)))\n",
    "\n",
    "# Display first few rows\n",
    "movies.head()"
   ]
  },
  {
   "cell_type": "code",
   "execution_count": null,
   "id": "233c3a25-f182-4200-a3db-6d26312ea1e0",
   "metadata": {},
   "outputs": [],
   "source": [
    "movies['tags'] = movies['tags'].apply(lambda x:x.lower())"
   ]
  },
  {
   "cell_type": "code",
   "execution_count": null,
   "id": "aa376a25-92b7-4f68-9cdb-249ca100a334",
   "metadata": {},
   "outputs": [],
   "source": [
    "movies.head(2)"
   ]
  },
  {
   "cell_type": "code",
   "execution_count": null,
   "id": "671a5b4c-7eb7-4751-a51a-c669aef520e7",
   "metadata": {},
   "outputs": [],
   "source": [
    "import nltk\n",
    "from nltk.stem import PorterStemmer\n",
    "ps=PorterStemmer()"
   ]
  },
  {
   "cell_type": "code",
   "execution_count": null,
   "id": "9d539f10-bb4d-4802-b7a4-cb2943c86f42",
   "metadata": {},
   "outputs": [],
   "source": [
    "def steam(text):\n",
    "    l=[]\n",
    "    for i in text.split():\n",
    "        l.append(ps.stem(i))\n",
    "\n",
    "    return \" \".join(l)\n",
    "        "
   ]
  },
  {
   "cell_type": "code",
   "execution_count": null,
   "id": "d719c769-771c-466a-a301-93b82ac98e6d",
   "metadata": {},
   "outputs": [],
   "source": [
    "movies['tags'] = movies['tags'].apply(steam)"
   ]
  },
  {
   "cell_type": "code",
   "execution_count": null,
   "id": "a661606c-a978-49bf-a932-3928eb1b850a",
   "metadata": {},
   "outputs": [],
   "source": [
    "movies.iloc[0]['tags']"
   ]
  },
  {
   "cell_type": "code",
   "execution_count": null,
   "id": "08b97b09-d124-4957-8ef9-38c4f11083c0",
   "metadata": {
    "scrolled": true
   },
   "outputs": [],
   "source": [
    "#vectorization after that cosine similarity to find nearest vector as suggested\n",
    "from sklearn.feature_extraction.text import CountVectorizer\n",
    "cv=CountVectorizer(max_features=5000,stop_words='english')"
   ]
  },
  {
   "cell_type": "code",
   "execution_count": null,
   "id": "ccf0df69-e66e-47ad-822e-728b1ce8a931",
   "metadata": {},
   "outputs": [],
   "source": [
    "vector=cv.fit_transform(movies['tags']).toarray()"
   ]
  },
  {
   "cell_type": "code",
   "execution_count": null,
   "id": "82e8cb76-8413-4c12-a0d5-e8fc11a7c334",
   "metadata": {},
   "outputs": [],
   "source": [
    "vector.shape\n"
   ]
  },
  {
   "cell_type": "code",
   "execution_count": null,
   "id": "93bb99fe-8a3c-446c-aea5-a4664ab4155e",
   "metadata": {},
   "outputs": [],
   "source": [
    "from sklearn.metrics.pairwise import cosine_similarity\n",
    "\n",
    "sim=cosine_similarity(vector)\n",
    "sim.shape"
   ]
  },
  {
   "cell_type": "code",
   "execution_count": null,
   "id": "94073fb2-d471-49eb-9205-03484128a23b",
   "metadata": {},
   "outputs": [],
   "source": [
    "movies[movies['title'] == 'Inception'].index[0]"
   ]
  },
  {
   "cell_type": "code",
   "execution_count": null,
   "id": "1bbdfb6a-617a-40d4-9206-2d0f5ff74909",
   "metadata": {},
   "outputs": [],
   "source": [
    "def recomand(movie):\n",
    "    index_list = movies[movies['title'] == movie].index  # Use the variable, not a string\n",
    "    if index_list.empty:  # Check if the movie exists\n",
    "        print(f\"Movie '{movie}' not found in the dataset.\")\n",
    "        return\n",
    "    \n",
    "    index = index_list[0]  # Get the first matching index\n",
    "    distances = sorted(list(enumerate(sim[index])), reverse=True, key=lambda x: x[1])\n",
    "    \n",
    "    print(\"Recommended Movies:\")\n",
    "    for i in distances[1:6]:  # Fix variable name from `distance` to `distances`\n",
    "        print(movies.iloc[i[0]]['title'])  # Fetch movie title based on index\n"
   ]
  },
  {
   "cell_type": "code",
   "execution_count": null,
   "id": "bef46c95-df04-43bd-9c9e-e0cccd923427",
   "metadata": {},
   "outputs": [],
   "source": [
    "recomand('Spider-Man')"
   ]
  },
  {
   "cell_type": "code",
   "execution_count": null,
   "id": "b78c2283-5d8c-4449-9bea-27f2fac503da",
   "metadata": {},
   "outputs": [],
   "source": []
  }
 ],
 "metadata": {
  "kernelspec": {
   "display_name": "Python 3",
   "language": "python",
   "name": "python3"
  },
  "language_info": {
   "codemirror_mode": {
    "name": "ipython",
    "version": 3
   },
   "file_extension": ".py",
   "mimetype": "text/x-python",
   "name": "python",
   "nbconvert_exporter": "python",
   "pygments_lexer": "ipython3",
   "version": "3.12.5"
  }
 },
 "nbformat": 4,
 "nbformat_minor": 5
}
